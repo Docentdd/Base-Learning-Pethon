{
 "cells": [
  {
   "metadata": {},
   "cell_type": "markdown",
   "source": "# 12.12.2024",
   "id": "bc4883d1f112a9c9"
  },
  {
   "metadata": {
    "ExecuteTime": {
     "end_time": "2024-12-12T18:42:59.766269Z",
     "start_time": "2024-12-12T18:42:59.759161Z"
    }
   },
   "cell_type": "code",
   "source": "print(\"hello world\")",
   "id": "bb7af0d7a192b851",
   "outputs": [
    {
     "name": "stdout",
     "output_type": "stream",
     "text": [
      "hello world\n"
     ]
    }
   ],
   "execution_count": 4
  },
  {
   "metadata": {},
   "cell_type": "raw",
   "source": "The indentation is important in the python",
   "id": "b4a860452f431e01"
  },
  {
   "metadata": {
    "ExecuteTime": {
     "end_time": "2024-12-12T18:54:03.370074Z",
     "start_time": "2024-12-12T18:54:03.359197Z"
    }
   },
   "cell_type": "code",
   "source": [
    "if 5>2:\n",
    "        print(\"5 is greater than 2\")"
   ],
   "id": "4e4f7c4da8eb3a5f",
   "outputs": [
    {
     "name": "stdout",
     "output_type": "stream",
     "text": [
      "5 is greater than 2\n"
     ]
    }
   ],
   "execution_count": 15
  },
  {
   "metadata": {},
   "cell_type": "markdown",
   "source": "Here the problem with the indentation",
   "id": "d58e086c89f2125"
  },
  {
   "metadata": {
    "ExecuteTime": {
     "end_time": "2024-12-12T18:54:56.936112Z",
     "start_time": "2024-12-12T18:54:56.926046Z"
    }
   },
   "cell_type": "code",
   "source": [
    "if 7 < 3:\n",
    "print (\"7 is less than 3\")"
   ],
   "id": "3c0da164a7b1fcb5",
   "outputs": [
    {
     "ename": "IndentationError",
     "evalue": "expected an indented block after 'if' statement on line 1 (3934249402.py, line 2)",
     "output_type": "error",
     "traceback": [
      "\u001B[1;36m  Cell \u001B[1;32mIn[16], line 2\u001B[1;36m\u001B[0m\n\u001B[1;33m    print (\"7 is less than 3\")\u001B[0m\n\u001B[1;37m    ^\u001B[0m\n\u001B[1;31mIndentationError\u001B[0m\u001B[1;31m:\u001B[0m expected an indented block after 'if' statement on line 1\n"
     ]
    }
   ],
   "execution_count": 16
  },
  {
   "metadata": {},
   "cell_type": "raw",
   "source": [
    "#Python Variables\n",
    "it's not allowed to have in the name:\n",
    "1) spaces\n",
    "2) number in the beginning\n",
    "3) -\n"
   ],
   "id": "e48d07b12dca73e7"
  },
  {
   "metadata": {
    "ExecuteTime": {
     "end_time": "2024-12-12T19:02:06.090281Z",
     "start_time": "2024-12-12T19:02:06.081943Z"
    }
   },
   "cell_type": "code",
   "source": [
    "x = 5 # number\n",
    "y = \"String\""
   ],
   "id": "14d6c45e903b643e",
   "outputs": [],
   "execution_count": 17
  },
  {
   "metadata": {
    "ExecuteTime": {
     "end_time": "2024-12-12T19:02:08.027370Z",
     "start_time": "2024-12-12T19:02:08.012005Z"
    }
   },
   "cell_type": "code",
   "source": [
    "\"\"\"\n",
    "This is a comment\n",
    "written in\n",
    "more than just one line\n",
    "\"\"\"\n",
    "print(\"Hello, World!\")"
   ],
   "id": "a7b2b421b0c159e6",
   "outputs": [
    {
     "name": "stdout",
     "output_type": "stream",
     "text": [
      "Hello, World!\n"
     ]
    }
   ],
   "execution_count": 18
  },
  {
   "metadata": {},
   "cell_type": "raw",
   "source": "casting the variebles",
   "id": "1af1dd4416c2f057"
  },
  {
   "metadata": {
    "ExecuteTime": {
     "end_time": "2024-12-12T19:29:16.032889Z",
     "start_time": "2024-12-12T19:29:16.025687Z"
    }
   },
   "cell_type": "code",
   "source": [
    "x1 = int(12)\n",
    "srt1 = str(134)\n",
    "float1 = float(123)"
   ],
   "id": "21fae135fc4c83d3",
   "outputs": [],
   "execution_count": 20
  },
  {
   "metadata": {
    "ExecuteTime": {
     "end_time": "2024-12-12T19:30:06.781281Z",
     "start_time": "2024-12-12T19:30:06.771827Z"
    }
   },
   "cell_type": "code",
   "source": [
    "print(x1)\n",
    "print(srt1)\n",
    "print(float1)\n",
    "print(\"-----\")\n",
    "print(type(x1))\n",
    "print(type(srt1))\n",
    "print(type(float1))"
   ],
   "id": "898b15f189621b05",
   "outputs": [
    {
     "name": "stdout",
     "output_type": "stream",
     "text": [
      "12\n",
      "134\n",
      "123.0\n",
      "-----\n",
      "<class 'int'>\n",
      "<class 'str'>\n",
      "<class 'float'>\n"
     ]
    }
   ],
   "execution_count": 23
  },
  {
   "metadata": {},
   "cell_type": "raw",
   "source": "It's possible to decalre variables like that",
   "id": "fdceabdfb49b2889"
  },
  {
   "metadata": {
    "ExecuteTime": {
     "end_time": "2024-12-12T19:35:34.977640Z",
     "start_time": "2024-12-12T19:35:34.968279Z"
    }
   },
   "cell_type": "code",
   "source": [
    "x, y, z = \"Orange\", 4, \"324\"\n",
    "print(x)\n",
    "print(y)\n",
    "print(z)\n",
    "print(type(x))\n",
    "print(type(y))\n",
    "print(type(z))"
   ],
   "id": "f471b00ce03f668f",
   "outputs": [
    {
     "name": "stdout",
     "output_type": "stream",
     "text": [
      "Orange\n",
      "4\n",
      "324\n",
      "<class 'str'>\n",
      "<class 'int'>\n",
      "<class 'str'>\n"
     ]
    }
   ],
   "execution_count": 26
  },
  {
   "metadata": {},
   "cell_type": "raw",
   "source": "used for unpacking the lists",
   "id": "24bb74441dcba27e"
  },
  {
   "metadata": {
    "ExecuteTime": {
     "end_time": "2024-12-12T19:37:32.623764Z",
     "start_time": "2024-12-12T19:37:32.591287Z"
    }
   },
   "cell_type": "code",
   "source": [
    "list = [1,2,3,4]\n",
    "a,b,c,d = list\n",
    "print(a)\n",
    "print(b)\n",
    "print(c)\n",
    "print(d)"
   ],
   "id": "b39b91b6548d3c7f",
   "outputs": [
    {
     "ename": "ValueError",
     "evalue": "not enough values to unpack (expected 5, got 4)",
     "output_type": "error",
     "traceback": [
      "\u001B[1;31m---------------------------------------------------------------------------\u001B[0m",
      "\u001B[1;31mValueError\u001B[0m                                Traceback (most recent call last)",
      "Cell \u001B[1;32mIn[32], line 2\u001B[0m\n\u001B[0;32m      1\u001B[0m \u001B[38;5;28mlist\u001B[39m \u001B[38;5;241m=\u001B[39m [\u001B[38;5;241m1\u001B[39m,\u001B[38;5;241m2\u001B[39m,\u001B[38;5;241m3\u001B[39m,\u001B[38;5;241m4\u001B[39m]\n\u001B[1;32m----> 2\u001B[0m a,b,c,d,e \u001B[38;5;241m=\u001B[39m \u001B[38;5;28mlist\u001B[39m\n\u001B[0;32m      3\u001B[0m \u001B[38;5;28mprint\u001B[39m(a)\n\u001B[0;32m      4\u001B[0m \u001B[38;5;28mprint\u001B[39m(b)\n",
      "\u001B[1;31mValueError\u001B[0m: not enough values to unpack (expected 5, got 4)"
     ]
    }
   ],
   "execution_count": 32
  },
  {
   "metadata": {
    "ExecuteTime": {
     "end_time": "2024-12-12T19:40:40.429781Z",
     "start_time": "2024-12-12T19:40:40.421104Z"
    }
   },
   "cell_type": "code",
   "source": "print('Hello','World') #in java there are no space",
   "id": "a7b8d0f94ba1b1b8",
   "outputs": [
    {
     "name": "stdout",
     "output_type": "stream",
     "text": [
      "Hello World\n"
     ]
    }
   ],
   "execution_count": 35
  },
  {
   "metadata": {},
   "cell_type": "raw",
   "source": "# Global variables",
   "id": "66c8350ac129fab9"
  },
  {
   "metadata": {
    "ExecuteTime": {
     "end_time": "2024-12-12T19:42:16.348566Z",
     "start_time": "2024-12-12T19:42:16.339650Z"
    }
   },
   "cell_type": "code",
   "source": [
    "x = \"Global\"\n",
    "def myfunc():\n",
    "    print(\"Hello \" + x)\n",
    "\n",
    "myfunc()"
   ],
   "id": "c276289f51e5a06f",
   "outputs": [
    {
     "name": "stdout",
     "output_type": "stream",
     "text": [
      "Hello Global\n"
     ]
    }
   ],
   "execution_count": 37
  },
  {
   "metadata": {
    "ExecuteTime": {
     "end_time": "2024-12-12T19:43:44.963351Z",
     "start_time": "2024-12-12T19:43:44.954966Z"
    }
   },
   "cell_type": "code",
   "source": [
    "x = \"Global\"\n",
    "def myfunc2():\n",
    "    x = \"Local\"\n",
    "    print(\"Hello \" + x)\n",
    "myfunc2()\n",
    "print(x)"
   ],
   "id": "7047fa75c5c4f48e",
   "outputs": [
    {
     "name": "stdout",
     "output_type": "stream",
     "text": [
      "Hello Local\n",
      "Global\n"
     ]
    }
   ],
   "execution_count": 40
  },
  {
   "metadata": {},
   "cell_type": "markdown",
   "source": "for creation the global variable in the function use global",
   "id": "c6dd4d8fbc3b903e"
  },
  {
   "metadata": {
    "ExecuteTime": {
     "end_time": "2024-12-12T19:51:25.120698Z",
     "start_time": "2024-12-12T19:51:25.104963Z"
    }
   },
   "cell_type": "code",
   "source": [
    "x = \"Global\"\n",
    "def myfunc3():\n",
    "    global x\n",
    "    x = \"Local\"\n",
    "    print(\"Hello \" + x)\n",
    "myfunc3()"
   ],
   "id": "90624954d2b75ae7",
   "outputs": [
    {
     "name": "stdout",
     "output_type": "stream",
     "text": [
      "Hello Local\n"
     ]
    }
   ],
   "execution_count": 41
  },
  {
   "metadata": {},
   "cell_type": "markdown",
   "source": "Python Data Types",
   "id": "72cd1df443c7db53"
  },
  {
   "metadata": {
    "ExecuteTime": {
     "end_time": "2024-12-12T19:52:55.155018Z",
     "start_time": "2024-12-12T19:52:55.125720Z"
    }
   },
   "cell_type": "code",
   "source": [
    "x11 = \"Hello World\"\t#str\n",
    "x12 = 20\t#int\n",
    "x13 = 20.5\t#float\n",
    "x14 = 1j\t#complex\n",
    "x15 = [\"apple\", \"banana\", \"cherry\"]\t#list\n",
    "x16 = (\"apple\", \"banana\", \"cherry\")\t#tuple\n",
    "x17 = range(6)\t#range\n",
    "x18 = {\"name\" : \"John\", \"age\" : 36}\t#dict\n",
    "x19 = {\"apple\", \"banana\", \"cherry\"}\t#set\n",
    "x20 = frozenset({\"apple\", \"banana\", \"cherry\"})\t#frozenset\n",
    "x21 = True\t#bool\n",
    "x22 = b\"Hello\"\t#bytes\n",
    "x23 = bytearray(5)\t#bytearray\n",
    "x24 = memoryview(bytes(5))\t#memoryview\n",
    "x25 = None\t#NoneType"
   ],
   "id": "9b5d65620b296377",
   "outputs": [],
   "execution_count": 42
  }
 ],
 "metadata": {
  "kernelspec": {
   "display_name": "Python 3",
   "language": "python",
   "name": "python3"
  },
  "language_info": {
   "codemirror_mode": {
    "name": "ipython",
    "version": 2
   },
   "file_extension": ".py",
   "mimetype": "text/x-python",
   "name": "python",
   "nbconvert_exporter": "python",
   "pygments_lexer": "ipython2",
   "version": "2.7.6"
  }
 },
 "nbformat": 4,
 "nbformat_minor": 5
}
