{
 "cells": [
  {
   "metadata": {},
   "cell_type": "markdown",
   "source": "# 12.12.2024",
   "id": "bc4883d1f112a9c9"
  },
  {
   "metadata": {
    "ExecuteTime": {
     "end_time": "2024-12-12T18:42:59.766269Z",
     "start_time": "2024-12-12T18:42:59.759161Z"
    }
   },
   "cell_type": "code",
   "source": "print(\"hello world\")",
   "id": "bb7af0d7a192b851",
   "outputs": [
    {
     "name": "stdout",
     "output_type": "stream",
     "text": [
      "hello world\n"
     ]
    }
   ],
   "execution_count": 4
  },
  {
   "metadata": {},
   "cell_type": "raw",
   "source": "The indentation is important in the python",
   "id": "b4a860452f431e01"
  },
  {
   "metadata": {
    "ExecuteTime": {
     "end_time": "2024-12-12T18:54:03.370074Z",
     "start_time": "2024-12-12T18:54:03.359197Z"
    }
   },
   "cell_type": "code",
   "source": [
    "if 5>2:\n",
    "        print(\"5 is greater than 2\")"
   ],
   "id": "4e4f7c4da8eb3a5f",
   "outputs": [
    {
     "name": "stdout",
     "output_type": "stream",
     "text": [
      "5 is greater than 2\n"
     ]
    }
   ],
   "execution_count": 15
  },
  {
   "metadata": {},
   "cell_type": "markdown",
   "source": "Here the problem with the indentation",
   "id": "d58e086c89f2125"
  },
  {
   "metadata": {
    "ExecuteTime": {
     "end_time": "2024-12-12T18:54:56.936112Z",
     "start_time": "2024-12-12T18:54:56.926046Z"
    }
   },
   "cell_type": "code",
   "source": [
    "if 7 < 3:\n",
    "print (\"7 is less than 3\")"
   ],
   "id": "3c0da164a7b1fcb5",
   "outputs": [
    {
     "ename": "IndentationError",
     "evalue": "expected an indented block after 'if' statement on line 1 (3934249402.py, line 2)",
     "output_type": "error",
     "traceback": [
      "\u001B[1;36m  Cell \u001B[1;32mIn[16], line 2\u001B[1;36m\u001B[0m\n\u001B[1;33m    print (\"7 is less than 3\")\u001B[0m\n\u001B[1;37m    ^\u001B[0m\n\u001B[1;31mIndentationError\u001B[0m\u001B[1;31m:\u001B[0m expected an indented block after 'if' statement on line 1\n"
     ]
    }
   ],
   "execution_count": 16
  },
  {
   "metadata": {},
   "cell_type": "raw",
   "source": [
    "#Python Variables\n",
    "it's not allowed to have in the name:\n",
    "1) spaces\n",
    "2) number in the beginning\n",
    "3) -\n"
   ],
   "id": "e48d07b12dca73e7"
  },
  {
   "metadata": {
    "ExecuteTime": {
     "end_time": "2024-12-12T19:02:06.090281Z",
     "start_time": "2024-12-12T19:02:06.081943Z"
    }
   },
   "cell_type": "code",
   "source": [
    "x = 5 # number\n",
    "y = \"String\""
   ],
   "id": "14d6c45e903b643e",
   "outputs": [],
   "execution_count": 17
  },
  {
   "metadata": {
    "ExecuteTime": {
     "end_time": "2024-12-12T19:02:08.027370Z",
     "start_time": "2024-12-12T19:02:08.012005Z"
    }
   },
   "cell_type": "code",
   "source": [
    "\"\"\"\n",
    "This is a comment\n",
    "written in\n",
    "more than just one line\n",
    "\"\"\"\n",
    "print(\"Hello, World!\")"
   ],
   "id": "a7b2b421b0c159e6",
   "outputs": [
    {
     "name": "stdout",
     "output_type": "stream",
     "text": [
      "Hello, World!\n"
     ]
    }
   ],
   "execution_count": 18
  },
  {
   "metadata": {},
   "cell_type": "raw",
   "source": "casting the variebles",
   "id": "1af1dd4416c2f057"
  },
  {
   "metadata": {
    "ExecuteTime": {
     "end_time": "2024-12-12T19:29:16.032889Z",
     "start_time": "2024-12-12T19:29:16.025687Z"
    }
   },
   "cell_type": "code",
   "source": [
    "x1 = int(12)\n",
    "srt1 = str(134)\n",
    "float1 = float(123)"
   ],
   "id": "21fae135fc4c83d3",
   "outputs": [],
   "execution_count": 20
  },
  {
   "metadata": {
    "ExecuteTime": {
     "end_time": "2024-12-12T19:30:06.781281Z",
     "start_time": "2024-12-12T19:30:06.771827Z"
    }
   },
   "cell_type": "code",
   "source": [
    "print(x1)\n",
    "print(srt1)\n",
    "print(float1)\n",
    "print(\"-----\")\n",
    "print(type(x1))\n",
    "print(type(srt1))\n",
    "print(type(float1))"
   ],
   "id": "898b15f189621b05",
   "outputs": [
    {
     "name": "stdout",
     "output_type": "stream",
     "text": [
      "12\n",
      "134\n",
      "123.0\n",
      "-----\n",
      "<class 'int'>\n",
      "<class 'str'>\n",
      "<class 'float'>\n"
     ]
    }
   ],
   "execution_count": 23
  },
  {
   "metadata": {},
   "cell_type": "raw",
   "source": "It's possible to decalre variables like that",
   "id": "fdceabdfb49b2889"
  },
  {
   "metadata": {
    "ExecuteTime": {
     "end_time": "2024-12-12T19:35:34.977640Z",
     "start_time": "2024-12-12T19:35:34.968279Z"
    }
   },
   "cell_type": "code",
   "source": [
    "x, y, z = \"Orange\", 4, \"324\"\n",
    "print(x)\n",
    "print(y)\n",
    "print(z)\n",
    "print(type(x))\n",
    "print(type(y))\n",
    "print(type(z))"
   ],
   "id": "f471b00ce03f668f",
   "outputs": [
    {
     "name": "stdout",
     "output_type": "stream",
     "text": [
      "Orange\n",
      "4\n",
      "324\n",
      "<class 'str'>\n",
      "<class 'int'>\n",
      "<class 'str'>\n"
     ]
    }
   ],
   "execution_count": 26
  },
  {
   "metadata": {},
   "cell_type": "raw",
   "source": "used for unpacking the lists",
   "id": "24bb74441dcba27e"
  },
  {
   "metadata": {
    "ExecuteTime": {
     "end_time": "2024-12-12T19:37:32.623764Z",
     "start_time": "2024-12-12T19:37:32.591287Z"
    }
   },
   "cell_type": "code",
   "source": [
    "list = [1,2,3,4]\n",
    "a,b,c,d = list\n",
    "print(a)\n",
    "print(b)\n",
    "print(c)\n",
    "print(d)"
   ],
   "id": "b39b91b6548d3c7f",
   "outputs": [
    {
     "ename": "ValueError",
     "evalue": "not enough values to unpack (expected 5, got 4)",
     "output_type": "error",
     "traceback": [
      "\u001B[1;31m---------------------------------------------------------------------------\u001B[0m",
      "\u001B[1;31mValueError\u001B[0m                                Traceback (most recent call last)",
      "Cell \u001B[1;32mIn[32], line 2\u001B[0m\n\u001B[0;32m      1\u001B[0m \u001B[38;5;28mlist\u001B[39m \u001B[38;5;241m=\u001B[39m [\u001B[38;5;241m1\u001B[39m,\u001B[38;5;241m2\u001B[39m,\u001B[38;5;241m3\u001B[39m,\u001B[38;5;241m4\u001B[39m]\n\u001B[1;32m----> 2\u001B[0m a,b,c,d,e \u001B[38;5;241m=\u001B[39m \u001B[38;5;28mlist\u001B[39m\n\u001B[0;32m      3\u001B[0m \u001B[38;5;28mprint\u001B[39m(a)\n\u001B[0;32m      4\u001B[0m \u001B[38;5;28mprint\u001B[39m(b)\n",
      "\u001B[1;31mValueError\u001B[0m: not enough values to unpack (expected 5, got 4)"
     ]
    }
   ],
   "execution_count": 32
  },
  {
   "metadata": {
    "ExecuteTime": {
     "end_time": "2024-12-12T19:40:40.429781Z",
     "start_time": "2024-12-12T19:40:40.421104Z"
    }
   },
   "cell_type": "code",
   "source": "print('Hello','World') #in java there are no space",
   "id": "a7b8d0f94ba1b1b8",
   "outputs": [
    {
     "name": "stdout",
     "output_type": "stream",
     "text": [
      "Hello World\n"
     ]
    }
   ],
   "execution_count": 35
  },
  {
   "metadata": {},
   "cell_type": "raw",
   "source": "# Global variables",
   "id": "66c8350ac129fab9"
  },
  {
   "metadata": {
    "ExecuteTime": {
     "end_time": "2024-12-12T19:42:16.348566Z",
     "start_time": "2024-12-12T19:42:16.339650Z"
    }
   },
   "cell_type": "code",
   "source": [
    "x = \"Global\"\n",
    "def myfunc():\n",
    "    print(\"Hello \" + x)\n",
    "\n",
    "myfunc()"
   ],
   "id": "c276289f51e5a06f",
   "outputs": [
    {
     "name": "stdout",
     "output_type": "stream",
     "text": [
      "Hello Global\n"
     ]
    }
   ],
   "execution_count": 37
  },
  {
   "metadata": {
    "ExecuteTime": {
     "end_time": "2024-12-12T19:43:44.963351Z",
     "start_time": "2024-12-12T19:43:44.954966Z"
    }
   },
   "cell_type": "code",
   "source": [
    "x = \"Global\"\n",
    "def myfunc2():\n",
    "    x = \"Local\"\n",
    "    print(\"Hello \" + x)\n",
    "myfunc2()\n",
    "print(x)"
   ],
   "id": "7047fa75c5c4f48e",
   "outputs": [
    {
     "name": "stdout",
     "output_type": "stream",
     "text": [
      "Hello Local\n",
      "Global\n"
     ]
    }
   ],
   "execution_count": 40
  },
  {
   "metadata": {},
   "cell_type": "markdown",
   "source": "for creation the global variable in the function use global",
   "id": "c6dd4d8fbc3b903e"
  },
  {
   "metadata": {
    "ExecuteTime": {
     "end_time": "2024-12-12T19:51:25.120698Z",
     "start_time": "2024-12-12T19:51:25.104963Z"
    }
   },
   "cell_type": "code",
   "source": [
    "x = \"Global\"\n",
    "def myfunc3():\n",
    "    global x\n",
    "    x = \"Local\"\n",
    "    print(\"Hello \" + x)\n",
    "myfunc3()"
   ],
   "id": "90624954d2b75ae7",
   "outputs": [
    {
     "name": "stdout",
     "output_type": "stream",
     "text": [
      "Hello Local\n"
     ]
    }
   ],
   "execution_count": 41
  },
  {
   "metadata": {},
   "cell_type": "markdown",
   "source": "Python Data Types",
   "id": "72cd1df443c7db53"
  },
  {
   "metadata": {
    "ExecuteTime": {
     "end_time": "2024-12-13T09:46:37.909634Z",
     "start_time": "2024-12-13T09:46:37.870383Z"
    }
   },
   "cell_type": "code",
   "source": [
    "x11 = \"Hello World\"\t#str\n",
    "x12 = 20\t#int\n",
    "x13 = 20.5\t#float\n",
    "x14 = 1j\t#complex\n",
    "x15 = [\"apple\", \"banana\", \"cherry\"]\t#list\n",
    "x16 = (\"apple\", \"banana\", \"cherry\")\t#tuple\n",
    "x17 = range(6)\t#range\n",
    "x18 = {\"name\" : \"John\", \"age\" : 36}\t#dict\n",
    "x19 = {\"apple\", \"banana\", \"cherry\"}\t#set\n",
    "x20 = frozenset({\"apple\", \"banana\", \"cherry\"})\t#frozenset\n",
    "x21 = True\t#bool\n",
    "x22 = b\"Hello\"\t#bytes\n",
    "x23 = bytearray(5)\t#bytearray\n",
    "x24 = memoryview(bytes(5))\t#memoryview\n",
    "x25 = None\t#NoneType"
   ],
   "id": "9b5d65620b296377",
   "outputs": [],
   "execution_count": 43
  },
  {
   "metadata": {},
   "cell_type": "markdown",
   "source": "# 13.12.2024",
   "id": "e03bcfe1047c6c96"
  },
  {
   "metadata": {},
   "cell_type": "markdown",
   "source": "Slacing in the Strings",
   "id": "7bb678270bcad5ee"
  },
  {
   "metadata": {
    "ExecuteTime": {
     "end_time": "2024-12-13T09:50:13.980203Z",
     "start_time": "2024-12-13T09:50:13.956036Z"
    }
   },
   "cell_type": "code",
   "source": [
    "b = \"Slicing the String\"\n",
    "print(b[:3] + \" from the beginning until the fourth element\")\n",
    "print(b[1:3])"
   ],
   "id": "9aaedb23b8e4d250",
   "outputs": [
    {
     "name": "stdout",
     "output_type": "stream",
     "text": [
      "Sli from the beginning until the fourth element\n",
      "li\n"
     ]
    }
   ],
   "execution_count": 47
  },
  {
   "metadata": {},
   "cell_type": "markdown",
   "source": "Modifying the String",
   "id": "f6e94c0bb0e12e62"
  },
  {
   "metadata": {
    "ExecuteTime": {
     "end_time": "2024-12-13T09:56:15.875177Z",
     "start_time": "2024-12-13T09:56:15.855463Z"
    }
   },
   "cell_type": "code",
   "source": [
    "a = \"Hello World\"\n",
    "print(a.upper())\n",
    "print(a.lower())\n",
    "a = \"    Hello Wolds    \"\n",
    "print(a.strip())\n",
    "a = \"Hello, World\"\n",
    "print(a.split(','))\n",
    "print(a.replace('H','O'))\n",
    "print(a)"
   ],
   "id": "4e788739df626526",
   "outputs": [
    {
     "name": "stdout",
     "output_type": "stream",
     "text": [
      "HELLO WORLD\n",
      "hello world\n",
      "Hello Wolds\n",
      "['Hello', ' World']\n",
      "Oello, World\n",
      "Hello, World\n"
     ]
    }
   ],
   "execution_count": 57
  },
  {
   "metadata": {},
   "cell_type": "markdown",
   "source": "# Create the simple project using all already knows from the 12.12.2024 - 14.12.2024 deadline 15.12 evening",
   "id": "fc301c31c3b14a4b"
  },
  {
   "metadata": {},
   "cell_type": "markdown",
   "source": "Format String F-Strings",
   "id": "395df3136310aee1"
  },
  {
   "metadata": {
    "ExecuteTime": {
     "end_time": "2024-12-13T10:05:03.575474Z",
     "start_time": "2024-12-13T10:05:03.562731Z"
    }
   },
   "cell_type": "code",
   "source": [
    "age = 27\n",
    "name = f\"Dima age is {age}\"\n",
    "print (name)"
   ],
   "id": "8ed747150898b9c4",
   "outputs": [
    {
     "name": "stdout",
     "output_type": "stream",
     "text": [
      "Dima age is 27\n"
     ]
    }
   ],
   "execution_count": 59
  },
  {
   "metadata": {
    "ExecuteTime": {
     "end_time": "2024-12-13T10:06:09.439528Z",
     "start_time": "2024-12-13T10:06:09.417439Z"
    }
   },
   "cell_type": "code",
   "source": [
    "price = 23\n",
    "item = f\"The car is cost {23:.2f}\"\n",
    "print(item)"
   ],
   "id": "7901b1f4a4680d5e",
   "outputs": [
    {
     "name": "stdout",
     "output_type": "stream",
     "text": [
      "The car is cost 23.00\n"
     ]
    }
   ],
   "execution_count": 62
  },
  {
   "metadata": {
    "ExecuteTime": {
     "end_time": "2024-12-13T10:07:58.844876Z",
     "start_time": "2024-12-13T10:07:58.824173Z"
    }
   },
   "cell_type": "code",
   "source": "print(\"We are the so-called \\\"Vikings\\\" from the north.\")\n",
   "id": "ae4daa6c44cb4091",
   "outputs": [
    {
     "name": "stdout",
     "output_type": "stream",
     "text": [
      "We are the so-called \"Vikings\" from the north.\n"
     ]
    }
   ],
   "execution_count": 64
  },
  {
   "metadata": {},
   "cell_type": "markdown",
   "source": [
    "# Python Escape Characters\n",
    "\n",
    "- **`\\'`**\n",
    "  Single Quote\n",
    "- **`\\\\`**\n",
    "  Backslash\n",
    "- **`\\n`**\n",
    "  New Line\n",
    "- **`\\r`**\n",
    "  Carriage Return\n",
    "- **`\\t`**\n",
    "  Tab\n",
    "- **`\\b`**\n",
    "  Backspace\n",
    "- **`\\f`**\n",
    "  Form Feed\n",
    "- **`\\ooo`**\n",
    "  Octal value\n",
    "- **`\\xhh`**\n",
    "  Hexadecimal value"
   ],
   "id": "6979d6a99dfb6a91"
  },
  {
   "metadata": {},
   "cell_type": "markdown",
   "source": [
    "# Python String Methods\n",
    "\n",
    "### Case Manipulation\n",
    "- **`capitalize()`**\n",
    "  Converts the first character to upper case.\n",
    "- **`casefold()`**\n",
    "  Converts string into lower case.\n",
    "- **`lower()`**\n",
    "  Converts a string into lower case.\n",
    "- **`swapcase()`**\n",
    "  Swaps cases; lower case becomes upper case and vice versa.\n",
    "- **`title()`**\n",
    "  Converts the first character of each word to upper case.\n",
    "- **`upper()`**\n",
    "  Converts a string into upper case.\n",
    "\n",
    "### String Alignment\n",
    "- **`center()`**\n",
    "  Returns a centered string.\n",
    "- **`ljust()`**\n",
    "  Returns a left justified version of the string.\n",
    "- **`rjust()`**\n",
    "  Returns a right justified version of the string.\n",
    "\n",
    "### Searching and Counting\n",
    "- **`count()`**\n",
    "  Returns the number of times a specified value occurs in a string.\n",
    "- **`find()`**\n",
    "  Searches the string for a specified value and returns the position where it was found.\n",
    "- **`index()`**\n",
    "  Searches the string for a specified value and returns the position where it was found.\n",
    "- **`rfind()`**\n",
    "  Searches the string for a specified value and returns the last position where it was found.\n",
    "- **`rindex()`**\n",
    "  Searches the string for a specified value and returns the last position where it was found.\n",
    "\n",
    "### Boolean Checks\n",
    "- **`isalnum()`**\n",
    "  Returns `True` if all characters in the string are alphanumeric.\n",
    "- **`isalpha()`**\n",
    "  Returns `True` if all characters in the string are alphabetic.\n",
    "- **`isascii()`**\n",
    "  Returns `True` if all characters in the string are ASCII characters.\n",
    "- **`isdecimal()`**\n",
    "  Returns `True` if all characters in the string are decimals.\n",
    "- **`isdigit()`**\n",
    "  Returns `True` if all characters in the string are digits.\n",
    "- **`isidentifier()`**\n",
    "  Returns `True` if the string is a valid identifier.\n",
    "- **`islower()`**\n",
    "  Returns `True` if all characters in the string are lower case.\n",
    "- **`isnumeric()`**\n",
    "  Returns `True` if all characters in the string are numeric.\n",
    "- **`isprintable()`**\n",
    "  Returns `True` if all characters in the string are printable.\n",
    "- **`isspace()`**\n",
    "  Returns `True` if all characters in the string are whitespaces.\n",
    "- **`istitle()`**\n",
    "  Returns `True` if the string follows the rules of a title.\n",
    "- **`isupper()`**\n",
    "  Returns `True` if all characters in the string are upper case.\n",
    "\n",
    "### Modifying Strings\n",
    "- **`expandtabs()`**\n",
    "  Sets the tab size of the string.\n",
    "- **`format()`**\n",
    "  Formats specified values in a string.\n",
    "- **`format_map()`**\n",
    "  Formats specified values in a string.\n",
    "- **`replace()`**\n",
    "  Returns a string where a specified value is replaced with another value.\n",
    "- **`translate()`**\n",
    "  Returns a translated string.\n",
    "\n",
    "### Splitting and Joining\n",
    "- **`join()`**\n",
    "  Joins the elements of an iterable to the end of the string.\n",
    "- **`partition()`**\n",
    "  Returns a tuple where the string is parted into three parts.\n",
    "- **`rpartition()`**\n",
    "  Returns a tuple where the string is parted into three parts.\n",
    "- **`rsplit()`**\n",
    "  Splits the string at the specified separator and returns a list.\n",
    "- **`split()`**\n",
    "  Splits the string at the specified separator and returns a list.\n",
    "- **`splitlines()`**\n",
    "  Splits the string at line breaks and returns a list.\n",
    "\n",
    "### Stripping\n",
    "- **`strip()`**\n",
    "  Returns a trimmed version of the string.\n",
    "- **`lstrip()`**\n",
    "  Returns a left trim version of the string.\n",
    "- **`rstrip()`**\n",
    "  Returns a right trim version of the string.\n",
    "\n",
    "### Encoding and Padding\n",
    "- **`encode()`**\n",
    "  Returns an encoded version of the string.\n",
    "- **`zfill()`**\n",
    "  Fills the string with a specified number of `0` values at the beginning.\n",
    "\n",
    "### Miscellaneous\n",
    "- **`startswith()`**\n",
    "  Returns `True` if the string starts with the specified value.\n",
    "- **`endswith()`**\n",
    "  Returns `True` if the string ends with the specified value.\n",
    "- **`maketrans()`**\n",
    "  Returns a translation table to be used in translations.\n"
   ],
   "id": "da4b34abdce6df83"
  },
  {
   "metadata": {},
   "cell_type": "markdown",
   "source": "## Boolean",
   "id": "dc7b95052c010821"
  },
  {
   "metadata": {
    "ExecuteTime": {
     "end_time": "2024-12-13T10:43:03.610162Z",
     "start_time": "2024-12-13T10:43:03.600392Z"
    }
   },
   "cell_type": "code",
   "source": "print(bool(2124))",
   "id": "9017efa1fe6b34af",
   "outputs": [
    {
     "name": "stdout",
     "output_type": "stream",
     "text": [
      "True\n"
     ]
    }
   ],
   "execution_count": 67
  },
  {
   "metadata": {
    "ExecuteTime": {
     "end_time": "2024-12-13T10:43:39.527286Z",
     "start_time": "2024-12-13T10:43:39.508199Z"
    }
   },
   "cell_type": "code",
   "source": [
    "class myclass():\n",
    "  def __len__(self):\n",
    "    return 0\n",
    "\n",
    "myobj = myclass()\n",
    "print(bool(myobj))"
   ],
   "id": "1c55f3ab90b802c3",
   "outputs": [
    {
     "name": "stdout",
     "output_type": "stream",
     "text": [
      "False\n"
     ]
    }
   ],
   "execution_count": 69
  },
  {
   "metadata": {},
   "cell_type": "markdown",
   "source": [
    "# Python Arithmetic Operators\n",
    "\n",
    "- **`+` (Addition)**\n",
    "  Adds two values: `x + y`\n",
    "\n",
    "- **`-` (Subtraction)**\n",
    "  Subtracts the second value from the first: `x - y`\n",
    "\n",
    "- **`*` (Multiplication)**\n",
    "  Multiplies two values: `x * y`\n",
    "\n",
    "- **`/` (Division)**\n",
    "  Divides the first value by the second: `x / y`\n",
    "\n",
    "- **`%` (Modulus)**\n",
    "  Returns the remainder of the division: `x % y`\n",
    "\n",
    "- **`**` (Exponentiation)**\n",
    "  Raises the first value to the power of the second: `x ** y`\n",
    "\n",
    "- **`//` (Floor Division)**\n",
    "  Divides the first value by the second and returns the largest integer less than or equal to the result: `x // y`\n"
   ],
   "id": "5a49f0ac61b1af98"
  },
  {
   "metadata": {},
   "cell_type": "markdown",
   "source": [
    "# Python Assignment Operators\n",
    "\n",
    "| Operator | Example       | Same As         | Description / Try it                |\n",
    "|----------|---------------|-----------------|--------------------------------------|\n",
    "| `=`      | `x = 5`       | `x = 5`         | Assigns the value `5` to `x`.       |\n",
    "| `+=`     | `x += 3`      | `x = x + 3`     | Adds `3` to `x`.                    |\n",
    "| `-=`     | `x -= 3`      | `x = x - 3`     | Subtracts `3` from `x`.             |\n",
    "| `*=`     | `x *= 3`      | `x = x * 3`     | Multiplies `x` by `3`.              |\n",
    "| `/=`     | `x /= 3`      | `x = x / 3`     | Divides `x` by `3`.                 |\n",
    "| `%=`     | `x %= 3`      | `x = x % 3`     | Assigns the remainder of `x / 3`.   |\n",
    "| `//=`    | `x //= 3`     | `x = x // 3`    | Performs floor division on `x` by `3`. |\n",
    "| `**=`    | `x **= 3`     | `x = x ** 3`    | Raises `x` to the power of `3`.     |\n",
    "| `&=`     | `x &= 3`      | `x = x & 3`     | Performs bitwise AND on `x` and `3`. |\n",
    "| `|=`     | `x |= 3`      | `x = x | 3`     | Performs bitwise OR on `x` and `3`. |\n",
    "| `^=`     | `x ^= 3`      | `x = x ^ 3`     | Performs bitwise XOR on `x` and `3`. |\n",
    "| `>>=`    | `x >>= 3`     | `x = x >> 3`    | Right shifts `x` by `3` bits.       |\n",
    "| `<<=`    | `x <<= 3`     | `x = x << 3`    | Left shifts `x` by `3` bits.        |\n",
    "| `:=`     | `print(x := 3)` | `x = 3`       | Assigns value `3` to `x` inside an expression. |\n"
   ],
   "id": "443db4f84c53bff7"
  },
  {
   "metadata": {},
   "cell_type": "markdown",
   "source": [
    "# Python Comparison Operators\n",
    "\n",
    "| Operator | Name                       | Example     | Description / Try it                  |\n",
    "|----------|----------------------------|-------------|----------------------------------------|\n",
    "| `==`     | Equal                     | `x == y`    | Returns `True` if `x` is equal to `y`. |\n",
    "| `!=`     | Not Equal                 | `x != y`    | Returns `True` if `x` is not equal to `y`. |\n",
    "| `>`      | Greater Than              | `x > y`     | Returns `True` if `x` is greater than `y`. |\n",
    "| `<`      | Less Than                 | `x < y`     | Returns `True` if `x` is less than `y`. |\n",
    "| `>=`     | Greater Than or Equal To  | `x >= y`    | Returns `True` if `x` is greater than or equal to `y`. |\n",
    "| `<=`     | Less Than or Equal To     | `x <= y`    | Returns `True` if `x` is less than or equal to `y`. |\n"
   ],
   "id": "a83050c58e050449"
  },
  {
   "metadata": {},
   "cell_type": "markdown",
   "source": [
    "# Python Logical Operators\n",
    "\n",
    "| Operator | Description                                   | Example                        | Explanation                                   |\n",
    "|----------|-----------------------------------------------|--------------------------------|-----------------------------------------------|\n",
    "| `and`    | Returns `True` if both statements are true    | `x < 5 and x < 10`            | Evaluates to `True` if both conditions are met. |\n",
    "| `or`     | Returns `True` if one of the statements is true | `x < 5 or x < 4`             | Evaluates to `True` if at least one condition is met. |\n",
    "| `not`    | Reverses the result, returns `False` if the result is true | `not(x < 5 and x < 10)` | Negates the result of the condition.         |\n",
    "# Python Identity Operators\n",
    "\n",
    "| Operator   | Description                                           | Example       | Explanation                                           |\n",
    "|------------|-------------------------------------------------------|---------------|-------------------------------------------------------|\n",
    "| `is`       | Returns `True` if both variables are the same object  | `x is y`      | Evaluates to `True` if `x` and `y` refer to the same object in memory. |\n",
    "| `is not`   | Returns `True` if both variables are not the same object | `x is not y` | Evaluates to `True` if `x` and `y` refer to different objects in memory. |\n"
   ],
   "id": "20c3a8d3bb102c72"
  },
  {
   "metadata": {},
   "cell_type": "markdown",
   "source": [
    "# Python Bitwise Operators\n",
    "\n",
    "| Operator | Name                  | Description                                                                 | Example   | Explanation                                                   |\n",
    "|----------|-----------------------|-----------------------------------------------------------------------------|-----------|---------------------------------------------------------------|\n",
    "| `&`      | AND                   | Sets each bit to `1` if both bits are `1`.                                  | `x & y`   | Performs a bitwise AND operation between `x` and `y`.         |\n",
    "| `|`      | OR                    | Sets each bit to `1` if one of two bits is `1`.                             | `x | y`   | Performs a bitwise OR operation between `x` and `y`.          |\n",
    "| `^`      | XOR                   | Sets each bit to `1` if only one of two bits is `1`.                        | `x ^ y`   | Performs a bitwise XOR operation between `x` and `y`.         |\n",
    "| `~`      | NOT                   | Inverts all the bits.                                                      | `~x`      | Flips all the bits of `x`.                                    |\n",
    "| `<<`     | Zero fill left shift  | Shifts left by pushing zeros in from the right and letting the leftmost bits fall off. | `x << 2`  | Shifts `x` left by `2` positions.                            |\n",
    "| `>>`     | Signed right shift    | Shifts right by pushing copies of the leftmost bit in from the left, letting the rightmost bits fall off. | `x >> 2`  | Shifts `x` right by `2` positions.                           |\n"
   ],
   "id": "d81a22cd0e8421f8"
  },
  {
   "metadata": {},
   "cell_type": "markdown",
   "source": "# 14.12.2024",
   "id": "8792e5e2bb6c057c"
  },
  {
   "metadata": {},
   "cell_type": "markdown",
   "source": "### Python List",
   "id": "daf0dc37c47a0b9"
  },
  {
   "metadata": {
    "ExecuteTime": {
     "end_time": "2024-12-14T17:18:53.684257Z",
     "start_time": "2024-12-14T17:18:53.643655Z"
    }
   },
   "cell_type": "code",
   "source": "my_list = ['apple', 'banana', 'cherry']",
   "id": "11ea9149ae27165b",
   "outputs": [],
   "execution_count": 71
  },
  {
   "metadata": {},
   "cell_type": "markdown",
   "source": "The list is changeable, start from zero, allow duplicates",
   "id": "8716a41a58202930"
  },
  {
   "metadata": {
    "ExecuteTime": {
     "end_time": "2024-12-14T17:21:10.137798Z",
     "start_time": "2024-12-14T17:21:10.099560Z"
    }
   },
   "cell_type": "code",
   "source": "len(my_list)",
   "id": "d1ea91cce747ee00",
   "outputs": [
    {
     "data": {
      "text/plain": [
       "3"
      ]
     },
     "execution_count": 72,
     "metadata": {},
     "output_type": "execute_result"
    }
   ],
   "execution_count": 72
  },
  {
   "metadata": {
    "ExecuteTime": {
     "end_time": "2024-12-14T17:57:43.632431Z",
     "start_time": "2024-12-14T17:57:43.555127Z"
    }
   },
   "cell_type": "code",
   "source": [
    "my_list2 = ['banana', 'cherry', 'apple', 'peach', 'pineapple', 'kiwi']\n",
    "print(my_list2[1:4]) # 1 is include 4 is not included"
   ],
   "id": "13accfc1d65de5a0",
   "outputs": [
    {
     "name": "stdout",
     "output_type": "stream",
     "text": [
      "['cherry', 'apple', 'peach']\n"
     ]
    }
   ],
   "execution_count": 78
  },
  {
   "metadata": {
    "ExecuteTime": {
     "end_time": "2024-12-14T17:58:39.572073Z",
     "start_time": "2024-12-14T17:58:39.548607Z"
    }
   },
   "cell_type": "code",
   "source": [
    "if 'kiwi' in my_list2:\n",
    "    print(\"kiwi is in the list\")"
   ],
   "id": "f2e0664ad5cf200",
   "outputs": [
    {
     "name": "stdout",
     "output_type": "stream",
     "text": [
      "kiwi is in the list\n"
     ]
    }
   ],
   "execution_count": 79
  },
  {
   "metadata": {
    "ExecuteTime": {
     "end_time": "2024-12-14T18:08:05.412996Z",
     "start_time": "2024-12-14T18:08:05.399014Z"
    }
   },
   "cell_type": "code",
   "source": [
    "thislist = [\"apple\", \"banana\", \"cherry\", \"orange\", \"kiwi\", \"mango\"]\n",
    "thislist[1:3] = [\"blackcurrant\", \"watermelon\"]\n",
    "print(thislist)"
   ],
   "id": "8cb04da2ceef99b",
   "outputs": [
    {
     "name": "stdout",
     "output_type": "stream",
     "text": [
      "['apple', 'blackcurrant', 'watermelon', 'orange', 'kiwi', 'mango']\n"
     ]
    }
   ],
   "execution_count": 82
  },
  {
   "metadata": {
    "ExecuteTime": {
     "end_time": "2024-12-14T18:08:35.914032Z",
     "start_time": "2024-12-14T18:08:35.882410Z"
    }
   },
   "cell_type": "code",
   "source": [
    "thislist = [\"apple\", \"banana\", \"cherry\", \"orange\", \"kiwi\", \"mango\"]\n",
    "thislist.insert(1, 'peach')\n",
    "thislist"
   ],
   "id": "40a09d2c9f034aea",
   "outputs": [
    {
     "data": {
      "text/plain": [
       "['apple', 'peach', 'banana', 'cherry', 'orange', 'kiwi', 'mango']"
      ]
     },
     "execution_count": 86,
     "metadata": {},
     "output_type": "execute_result"
    }
   ],
   "execution_count": 86
  },
  {
   "metadata": {
    "ExecuteTime": {
     "end_time": "2024-12-14T18:10:05.603319Z",
     "start_time": "2024-12-14T18:10:05.591061Z"
    }
   },
   "cell_type": "code",
   "source": [
    "thislist2 = [\"apple\", \"banana\", \"cherry\"]\n",
    "thislist2.insert(7, 'peach')\n",
    "thislist2"
   ],
   "id": "53c4c2b7df839ea4",
   "outputs": [
    {
     "data": {
      "text/plain": [
       "['apple', 'banana', 'cherry', 'peach']"
      ]
     },
     "execution_count": 90,
     "metadata": {},
     "output_type": "execute_result"
    }
   ],
   "execution_count": 90
  },
  {
   "metadata": {},
   "cell_type": "markdown",
   "source": "### Inserting the items in the list",
   "id": "39966cc79a8416bb"
  },
  {
   "metadata": {
    "ExecuteTime": {
     "end_time": "2024-12-14T18:16:56.499142Z",
     "start_time": "2024-12-14T18:16:56.474374Z"
    }
   },
   "cell_type": "code",
   "source": "thislist",
   "id": "28b6680715fa453b",
   "outputs": [
    {
     "data": {
      "text/plain": [
       "['apple', 'peach', 'banana', 'cherry', 'orange', 'kiwi', 'mango']"
      ]
     },
     "execution_count": 91,
     "metadata": {},
     "output_type": "execute_result"
    }
   ],
   "execution_count": 91
  },
  {
   "metadata": {
    "ExecuteTime": {
     "end_time": "2024-12-14T18:17:10.401624Z",
     "start_time": "2024-12-14T18:17:10.386629Z"
    }
   },
   "cell_type": "code",
   "source": [
    "thislist.append(1) # .append add the elements to the end od the list\n",
    "thislist"
   ],
   "id": "d107ae70ae13865d",
   "outputs": [
    {
     "data": {
      "text/plain": [
       "['apple', 'peach', 'banana', 'cherry', 'orange', 'kiwi', 'mango', 1]"
      ]
     },
     "execution_count": 92,
     "metadata": {},
     "output_type": "execute_result"
    }
   ],
   "execution_count": 92
  },
  {
   "metadata": {
    "ExecuteTime": {
     "end_time": "2024-12-14T18:19:46.585122Z",
     "start_time": "2024-12-14T18:19:46.573812Z"
    }
   },
   "cell_type": "code",
   "source": [
    "#Method insert require two values\n",
    "thislist.insert(4, 123) #\n",
    "thislist"
   ],
   "id": "c2d50d0a43dc5a26",
   "outputs": [
    {
     "data": {
      "text/plain": [
       "['apple', 'peach', 'banana', 'cherry', 123, 'kiwi', 'mango', 1]"
      ]
     },
     "execution_count": 105,
     "metadata": {},
     "output_type": "execute_result"
    }
   ],
   "execution_count": 105
  },
  {
   "metadata": {
    "ExecuteTime": {
     "end_time": "2024-12-14T18:23:03.115047Z",
     "start_time": "2024-12-14T18:23:03.104014Z"
    }
   },
   "cell_type": "code",
   "source": [
    "largeNumbers = [123, 12345, 3245, 234]\n",
    "thislist.extend(largeNumbers)\n",
    "thislist"
   ],
   "id": "468921916e7b4b7b",
   "outputs": [
    {
     "data": {
      "text/plain": [
       "['apple',\n",
       " 'peach',\n",
       " 'banana',\n",
       " 'cherry',\n",
       " 123,\n",
       " 'kiwi',\n",
       " 'mango',\n",
       " 123,\n",
       " 12345,\n",
       " 3245,\n",
       " 234]"
      ]
     },
     "execution_count": 119,
     "metadata": {},
     "output_type": "execute_result"
    }
   ],
   "execution_count": 119
  },
  {
   "metadata": {},
   "cell_type": "markdown",
   "source": "### Deleting the items",
   "id": "5da86bf87cc93de2"
  },
  {
   "metadata": {
    "ExecuteTime": {
     "end_time": "2024-12-14T18:24:13.769931Z",
     "start_time": "2024-12-14T18:24:13.755343Z"
    }
   },
   "cell_type": "code",
   "source": "thislist",
   "id": "3fe901c60cfd5ae4",
   "outputs": [
    {
     "data": {
      "text/plain": [
       "['apple',\n",
       " 'peach',\n",
       " 'banana',\n",
       " 'cherry',\n",
       " 123,\n",
       " 'kiwi',\n",
       " 'mango',\n",
       " 123,\n",
       " 12345,\n",
       " 3245,\n",
       " 234]"
      ]
     },
     "execution_count": 120,
     "metadata": {},
     "output_type": "execute_result"
    }
   ],
   "execution_count": 120
  },
  {
   "metadata": {
    "ExecuteTime": {
     "end_time": "2024-12-14T18:24:50.327452Z",
     "start_time": "2024-12-14T18:24:50.184698Z"
    }
   },
   "cell_type": "code",
   "source": "thislist.remove('mango')",
   "id": "73466aae07d1c594",
   "outputs": [
    {
     "ename": "ValueError",
     "evalue": "list.remove(x): x not in list",
     "output_type": "error",
     "traceback": [
      "\u001B[1;31m---------------------------------------------------------------------------\u001B[0m",
      "\u001B[1;31mValueError\u001B[0m                                Traceback (most recent call last)",
      "Cell \u001B[1;32mIn[123], line 1\u001B[0m\n\u001B[1;32m----> 1\u001B[0m \u001B[43mthislist\u001B[49m\u001B[38;5;241;43m.\u001B[39;49m\u001B[43mremove\u001B[49m\u001B[43m(\u001B[49m\u001B[38;5;124;43m'\u001B[39;49m\u001B[38;5;124;43mmango\u001B[39;49m\u001B[38;5;124;43m'\u001B[39;49m\u001B[43m)\u001B[49m\n",
      "\u001B[1;31mValueError\u001B[0m: list.remove(x): x not in list"
     ]
    }
   ],
   "execution_count": 123
  },
  {
   "metadata": {
    "ExecuteTime": {
     "end_time": "2024-12-14T18:24:32.754182Z",
     "start_time": "2024-12-14T18:24:32.738718Z"
    }
   },
   "cell_type": "code",
   "source": "thislist",
   "id": "641a9084a9920e34",
   "outputs": [
    {
     "data": {
      "text/plain": [
       "['apple', 'peach', 'banana', 'cherry', 123, 'kiwi', 123, 12345, 3245, 234]"
      ]
     },
     "execution_count": 122,
     "metadata": {},
     "output_type": "execute_result"
    }
   ],
   "execution_count": 122
  },
  {
   "metadata": {
    "ExecuteTime": {
     "end_time": "2024-12-14T18:25:54.446350Z",
     "start_time": "2024-12-14T18:25:54.433627Z"
    }
   },
   "cell_type": "code",
   "source": [
    "# pop(speified element), pop() last element\n",
    "thislist.pop()\n",
    "thislist.pop(0)"
   ],
   "id": "24250ddac13aec2f",
   "outputs": [
    {
     "data": {
      "text/plain": [
       "'apple'"
      ]
     },
     "execution_count": 125,
     "metadata": {},
     "output_type": "execute_result"
    }
   ],
   "execution_count": 125
  },
  {
   "metadata": {
    "ExecuteTime": {
     "end_time": "2024-12-14T18:26:02.747392Z",
     "start_time": "2024-12-14T18:26:02.733108Z"
    }
   },
   "cell_type": "code",
   "source": "thislist # remove apple and 234",
   "id": "6f6e4c02d8d0b2c3",
   "outputs": [
    {
     "data": {
      "text/plain": [
       "['peach', 'banana', 'cherry', 123, 'kiwi', 123, 12345, 3245]"
      ]
     },
     "execution_count": 126,
     "metadata": {},
     "output_type": "execute_result"
    }
   ],
   "execution_count": 126
  },
  {
   "metadata": {
    "ExecuteTime": {
     "end_time": "2024-12-14T18:27:04.712759Z",
     "start_time": "2024-12-14T18:27:04.704231Z"
    }
   },
   "cell_type": "code",
   "source": "del thislist[3] # or del thislist it will delete the list completely",
   "id": "a231aab9068ad460",
   "outputs": [],
   "execution_count": 127
  },
  {
   "metadata": {
    "ExecuteTime": {
     "end_time": "2024-12-14T18:27:09.282929Z",
     "start_time": "2024-12-14T18:27:09.272388Z"
    }
   },
   "cell_type": "code",
   "source": "thislist",
   "id": "dc536053b10e9cf7",
   "outputs": [
    {
     "data": {
      "text/plain": [
       "['peach', 'banana', 'cherry', 'kiwi', 123, 12345, 3245]"
      ]
     },
     "execution_count": 128,
     "metadata": {},
     "output_type": "execute_result"
    }
   ],
   "execution_count": 128
  },
  {
   "metadata": {
    "ExecuteTime": {
     "end_time": "2024-12-14T18:27:21.726579Z",
     "start_time": "2024-12-14T18:27:21.718335Z"
    }
   },
   "cell_type": "code",
   "source": "del thislist",
   "id": "9dde2f521ec92c1e",
   "outputs": [],
   "execution_count": 129
  },
  {
   "metadata": {
    "ExecuteTime": {
     "end_time": "2024-12-14T18:27:24.970300Z",
     "start_time": "2024-12-14T18:27:24.918094Z"
    }
   },
   "cell_type": "code",
   "source": "thislist",
   "id": "fa26d9f1a599ba21",
   "outputs": [
    {
     "ename": "NameError",
     "evalue": "name 'thislist' is not defined",
     "output_type": "error",
     "traceback": [
      "\u001B[1;31m---------------------------------------------------------------------------\u001B[0m",
      "\u001B[1;31mNameError\u001B[0m                                 Traceback (most recent call last)",
      "Cell \u001B[1;32mIn[130], line 1\u001B[0m\n\u001B[1;32m----> 1\u001B[0m \u001B[43mthislist\u001B[49m\n",
      "\u001B[1;31mNameError\u001B[0m: name 'thislist' is not defined"
     ]
    }
   ],
   "execution_count": 130
  },
  {
   "metadata": {
    "ExecuteTime": {
     "end_time": "2024-12-14T18:28:09.944776Z",
     "start_time": "2024-12-14T18:28:09.937069Z"
    }
   },
   "cell_type": "code",
   "source": [
    "thislist = ['peach', 'banana', 'cherry', 'kiwi']\n",
    "thislist\n",
    "thislist.clear()\n",
    "thislist"
   ],
   "id": "42fe4e34a34814e1",
   "outputs": [
    {
     "data": {
      "text/plain": [
       "[]"
      ]
     },
     "execution_count": 133,
     "metadata": {},
     "output_type": "execute_result"
    }
   ],
   "execution_count": 133
  },
  {
   "metadata": {},
   "cell_type": "markdown",
   "source": "In the example above we know that `del` function delete the variable but `clear` method delete just the list",
   "id": "2a05a5e81a8f8e"
  },
  {
   "metadata": {},
   "cell_type": "markdown",
   "source": "List Loop",
   "id": "fa1d0d7c2bf5eb52"
  },
  {
   "metadata": {
    "ExecuteTime": {
     "end_time": "2024-12-14T18:49:55.383065Z",
     "start_time": "2024-12-14T18:49:55.345751Z"
    }
   },
   "cell_type": "code",
   "source": "thislist = ['apple', 'banana', 'cherry']",
   "id": "3eba7b4230c34f38",
   "outputs": [],
   "execution_count": 134
  },
  {
   "metadata": {
    "ExecuteTime": {
     "end_time": "2024-12-14T18:50:07.060234Z",
     "start_time": "2024-12-14T18:50:07.051318Z"
    }
   },
   "cell_type": "code",
   "source": [
    "for i in thislist:\n",
    "    print(i)"
   ],
   "id": "63294053f9bcc600",
   "outputs": [
    {
     "name": "stdout",
     "output_type": "stream",
     "text": [
      "apple\n",
      "banana\n",
      "cherry\n"
     ]
    }
   ],
   "execution_count": 135
  },
  {
   "metadata": {
    "ExecuteTime": {
     "end_time": "2024-12-14T18:50:32.432936Z",
     "start_time": "2024-12-14T18:50:32.422955Z"
    }
   },
   "cell_type": "code",
   "source": [
    "for x in range(len(thislist)):\n",
    "    print(thislist[x])"
   ],
   "id": "889c97d2a1ff24ca",
   "outputs": [
    {
     "name": "stdout",
     "output_type": "stream",
     "text": [
      "apple\n",
      "banana\n",
      "cherry\n"
     ]
    }
   ],
   "execution_count": 137
  },
  {
   "metadata": {},
   "cell_type": "markdown",
   "source": "List Comprehensive",
   "id": "ea975fc61f6ab3a7"
  },
  {
   "metadata": {
    "ExecuteTime": {
     "end_time": "2024-12-14T18:51:51.053614Z",
     "start_time": "2024-12-14T18:51:51.045490Z"
    }
   },
   "cell_type": "code",
   "source": "[x for x in thislist]",
   "id": "f133fc6bee055342",
   "outputs": [
    {
     "data": {
      "text/plain": [
       "['apple', 'banana', 'cherry']"
      ]
     },
     "execution_count": 140,
     "metadata": {},
     "output_type": "execute_result"
    }
   ],
   "execution_count": 140
  },
  {
   "metadata": {
    "ExecuteTime": {
     "end_time": "2024-12-14T18:53:21.978687Z",
     "start_time": "2024-12-14T18:53:21.941233Z"
    }
   },
   "cell_type": "code",
   "source": [
    "fruits = [\"apple\", \"banana\", \"cherry\", \"kiwi\", \"mango\"]\n",
    "newlist = []\n",
    "\n",
    "for x in fruits:\n",
    "  if \"a\" in x:\n",
    "    newlist.append(x)\n",
    "\n",
    "print(newlist)"
   ],
   "id": "9f436aae28b52af5",
   "outputs": [
    {
     "name": "stdout",
     "output_type": "stream",
     "text": [
      "['apple', 'banana', 'mango']\n"
     ]
    }
   ],
   "execution_count": 141
  },
  {
   "metadata": {
    "ExecuteTime": {
     "end_time": "2024-12-14T18:53:23.222604Z",
     "start_time": "2024-12-14T18:53:23.213491Z"
    }
   },
   "cell_type": "code",
   "source": [
    "fruits = [\"apple\", \"banana\", \"cherry\", \"kiwi\", \"mango\"]\n",
    "\n",
    "newlist = [x for x in fruits if \"a\" in x]\n",
    "\n",
    "print(newlist)"
   ],
   "id": "a52df6b84c954937",
   "outputs": [
    {
     "name": "stdout",
     "output_type": "stream",
     "text": [
      "['apple', 'banana', 'mango']\n"
     ]
    }
   ],
   "execution_count": 142
  },
  {
   "metadata": {},
   "cell_type": "markdown",
   "source": [
    "### The Syntax\n",
    "- #### newlist = `[expression for item in iterable if condition == True]`"
   ],
   "id": "c2e594a1f96fb644"
  },
  {
   "metadata": {
    "ExecuteTime": {
     "end_time": "2024-12-14T18:58:43.562470Z",
     "start_time": "2024-12-14T18:58:43.551131Z"
    }
   },
   "cell_type": "code",
   "source": [
    "#Examples\n",
    "newlist2 = [x.upper() for x in fruits]\n",
    "newlist2"
   ],
   "id": "4b978add7855370b",
   "outputs": [
    {
     "data": {
      "text/plain": [
       "['APPLE', 'BANANA', 'CHERRY', 'KIWI', 'MANGO']"
      ]
     },
     "execution_count": 146,
     "metadata": {},
     "output_type": "execute_result"
    }
   ],
   "execution_count": 146
  },
  {
   "metadata": {
    "ExecuteTime": {
     "end_time": "2024-12-14T18:58:46.174033Z",
     "start_time": "2024-12-14T18:58:46.164179Z"
    }
   },
   "cell_type": "code",
   "source": [
    "newlist3 = [x for x in fruits if \"a\" in x]\n",
    "newlist3"
   ],
   "id": "ebfa8c49f0d99702",
   "outputs": [
    {
     "data": {
      "text/plain": [
       "['apple', 'banana', 'mango']"
      ]
     },
     "execution_count": 147,
     "metadata": {},
     "output_type": "execute_result"
    }
   ],
   "execution_count": 147
  },
  {
   "metadata": {},
   "cell_type": "markdown",
   "source": "### Sorting the list",
   "id": "af478db27d5be138"
  },
  {
   "metadata": {
    "ExecuteTime": {
     "end_time": "2024-12-14T19:03:30.271907Z",
     "start_time": "2024-12-14T19:03:30.264375Z"
    }
   },
   "cell_type": "code",
   "source": [
    "thislist = ['kiwi','apple', 'cherry', 'kiwi', 'mango','banana']\n",
    "thislist.sort()\n",
    "print(thislist)"
   ],
   "id": "6bdee44d528bbc1",
   "outputs": [
    {
     "name": "stdout",
     "output_type": "stream",
     "text": [
      "['apple', 'banana', 'cherry', 'kiwi', 'kiwi', 'mango']\n"
     ]
    }
   ],
   "execution_count": 154
  },
  {
   "metadata": {
    "ExecuteTime": {
     "end_time": "2024-12-14T19:04:19.780381Z",
     "start_time": "2024-12-14T19:04:19.769419Z"
    }
   },
   "cell_type": "code",
   "source": [
    "listNumber = [2,5,1,3,6,4,7,8]\n",
    "listNumber.sort(reverse=True)\n",
    "print(listNumber)"
   ],
   "id": "c52447b8ff9cca92",
   "outputs": [
    {
     "name": "stdout",
     "output_type": "stream",
     "text": [
      "[8, 7, 6, 5, 4, 3, 2, 1]\n"
     ]
    }
   ],
   "execution_count": 155
  },
  {
   "metadata": {
    "ExecuteTime": {
     "end_time": "2024-12-14T19:04:36.158094Z",
     "start_time": "2024-12-14T19:04:36.144950Z"
    }
   },
   "cell_type": "code",
   "source": [
    "def myfunc(n):\n",
    "  return abs(n - 50)\n",
    "\n",
    "thislist = [100, 50, 65, 82, 23]\n",
    "thislist.sort(key = myfunc)\n",
    "print(thislist)"
   ],
   "id": "c8c2fe1d53c0b24",
   "outputs": [
    {
     "name": "stdout",
     "output_type": "stream",
     "text": [
      "[50, 65, 23, 82, 100]\n"
     ]
    }
   ],
   "execution_count": 156
  },
  {
   "metadata": {
    "ExecuteTime": {
     "end_time": "2024-12-14T19:05:20.704764Z",
     "start_time": "2024-12-14T19:05:20.694163Z"
    }
   },
   "cell_type": "code",
   "source": [
    "thislist = [\"banana\", \"Orange\", \"Kiwi\", \"cherry\"] # here we have an interesting thing\n",
    "thislist.sort()\n",
    "print(thislist)"
   ],
   "id": "e4e457e18cc0ed75",
   "outputs": [
    {
     "name": "stdout",
     "output_type": "stream",
     "text": [
      "['Kiwi', 'Orange', 'banana', 'cherry']\n"
     ]
    }
   ],
   "execution_count": 157
  },
  {
   "metadata": {
    "ExecuteTime": {
     "end_time": "2024-12-14T19:05:31.166048Z",
     "start_time": "2024-12-14T19:05:31.157659Z"
    }
   },
   "cell_type": "code",
   "source": [
    "thislist = [\"banana\", \"Orange\", \"Kiwi\", \"cherry\"]\n",
    "thislist.sort(key = str.lower)\n",
    "print(thislist)"
   ],
   "id": "6698824473885436",
   "outputs": [
    {
     "name": "stdout",
     "output_type": "stream",
     "text": [
      "['banana', 'cherry', 'Kiwi', 'Orange']\n"
     ]
    }
   ],
   "execution_count": 158
  },
  {
   "metadata": {
    "ExecuteTime": {
     "end_time": "2024-12-14T19:05:46.618754Z",
     "start_time": "2024-12-14T19:05:46.613191Z"
    }
   },
   "cell_type": "code",
   "source": [
    "thislist = [\"banana\", \"Orange\", \"Kiwi\", \"cherry\"] #in the reverse order\n",
    "thislist.reverse()\n",
    "print(thislist)\n"
   ],
   "id": "69913cf730d60849",
   "outputs": [
    {
     "name": "stdout",
     "output_type": "stream",
     "text": [
      "['cherry', 'Kiwi', 'Orange', 'banana']\n"
     ]
    }
   ],
   "execution_count": 159
  },
  {
   "metadata": {},
   "cell_type": "markdown",
   "source": [
    "### Copy a List <br>\n",
    "#### You cannot copy a list simply by typing `list2 = list1`, because: `list2` will only be a reference to list1, and changes made in `list1` will automatically also be made in `list2`."
   ],
   "id": "cdadf1e973708f70"
  },
  {
   "metadata": {
    "ExecuteTime": {
     "end_time": "2024-12-14T19:15:27.944646Z",
     "start_time": "2024-12-14T19:15:27.936684Z"
    }
   },
   "cell_type": "code",
   "source": [
    "my_list = ['banana', 'apple', 'peach']\n",
    "copy_my_list = my_list.copy()\n",
    "print(copy_my_list)\n",
    "my_list.append('mango')\n",
    "print(copy_my_list)\n",
    "copy_my_list.append('4')\n",
    "print(my_list)"
   ],
   "id": "379b9dab3a958c51",
   "outputs": [
    {
     "name": "stdout",
     "output_type": "stream",
     "text": [
      "['banana', 'apple', 'peach']\n",
      "['banana', 'apple', 'peach']\n",
      "['banana', 'apple', 'peach', 'mango']\n"
     ]
    }
   ],
   "execution_count": 169
  },
  {
   "metadata": {
    "ExecuteTime": {
     "end_time": "2024-12-14T19:15:33.554602Z",
     "start_time": "2024-12-14T19:15:33.536908Z"
    }
   },
   "cell_type": "code",
   "source": [
    "my_list = ['banana', 'apple', 'peach']\n",
    "copy_my_list = my_list\n",
    "my_list.append('mango')\n",
    "print(copy_my_list)\n",
    "my_list.append('4')\n",
    "print(copy_my_list)"
   ],
   "id": "6a302722aa27e5f2",
   "outputs": [
    {
     "name": "stdout",
     "output_type": "stream",
     "text": [
      "['banana', 'apple', 'peach', 'mango']\n",
      "['banana', 'apple', 'peach', 'mango', '4']\n"
     ]
    }
   ],
   "execution_count": 171
  },
  {
   "metadata": {},
   "cell_type": "markdown",
   "source": "### Join two lists",
   "id": "9ea97445f6b5c7a1"
  },
  {
   "metadata": {
    "ExecuteTime": {
     "end_time": "2024-12-14T19:17:58.381049Z",
     "start_time": "2024-12-14T19:17:58.352922Z"
    }
   },
   "cell_type": "code",
   "source": [
    "a = [1,2,3,4]\n",
    "b = [9,8,7,6]\n",
    "listAB = a + b\n",
    "print(listAB)\n",
    "\n",
    "for x in a:\n",
    "    b.append(x)\n",
    "print(b)\n"
   ],
   "id": "aa6cb27df3908228",
   "outputs": [
    {
     "name": "stdout",
     "output_type": "stream",
     "text": [
      "[1, 2, 3, 4, 9, 8, 7, 6]\n",
      "[9, 8, 7, 6, 1, 2, 3, 4]\n"
     ]
    }
   ],
   "execution_count": 172
  },
  {
   "metadata": {},
   "cell_type": "markdown",
   "source": [
    "# Python List Methods\n",
    "\n",
    "| Method       | Description                                                                  |\n",
    "|--------------|------------------------------------------------------------------------------|\n",
    "| `append()`   | Adds an element at the end of the list.                                      |\n",
    "| `clear()`    | Removes all the elements from the list.                                      |\n",
    "| `copy()`     | Returns a copy of the list.                                                 |\n",
    "| `count()`    | Returns the number of elements with the specified value.                    |\n",
    "| `extend()`   | Adds the elements of a list (or any iterable) to the end of the current list.|\n",
    "| `index()`    | Returns the index of the first element with the specified value.            |\n",
    "| `insert()`   | Adds an element at the specified position.                                  |\n",
    "| `pop()`      | Removes the element at the specified position.                              |\n",
    "| `remove()`   | Removes the item with the specified value.                                  |\n",
    "| `reverse()`  | Reverses the order of the list.                                             |\n",
    "| `sort()`     | Sorts the list.                                                             |\n"
   ],
   "id": "e2acecb53d8b3d69"
  },
  {
   "metadata": {},
   "cell_type": "code",
   "outputs": [],
   "execution_count": null,
   "source": "",
   "id": "c2f0550215334d81"
  }
 ],
 "metadata": {
  "kernelspec": {
   "display_name": "Python 3",
   "language": "python",
   "name": "python3"
  },
  "language_info": {
   "codemirror_mode": {
    "name": "ipython",
    "version": 2
   },
   "file_extension": ".py",
   "mimetype": "text/x-python",
   "name": "python",
   "nbconvert_exporter": "python",
   "pygments_lexer": "ipython2",
   "version": "2.7.6"
  }
 },
 "nbformat": 4,
 "nbformat_minor": 5
}
